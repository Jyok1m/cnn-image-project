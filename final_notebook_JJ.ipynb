{
 "cells": [
  {
   "cell_type": "markdown",
   "id": "2dc93bec",
   "metadata": {},
   "source": [
    "# Résumé of all models"
   ]
  },
  {
   "cell_type": "markdown",
   "id": "86738631",
   "metadata": {},
   "source": []
  }
 ],
 "metadata": {
  "language_info": {
   "name": "python"
  }
 },
 "nbformat": 4,
 "nbformat_minor": 5
}
