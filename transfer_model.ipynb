{
  "cells": [
    {
      "cell_type": "markdown",
      "id": "c6339a2e",
      "metadata": {
        "id": "c6339a2e"
      },
      "source": [
        "# Transfer Learning"
      ]
    },
    {
      "cell_type": "markdown",
      "id": "82d6b2e9",
      "metadata": {
        "id": "82d6b2e9"
      },
      "source": [
        "## Setup"
      ]
    },
    {
      "cell_type": "code",
      "source": [
        "from tensorflow.keras.applications import VGG16\n",
        "from tensorflow.keras import layers, models\n",
        "from tensorflow.keras.optimizers import Adam\n",
        "import tensorflow as tf\n",
        "import numpy as np\n",
        "\n",
        "#drive.mount('/content/drive')"
      ],
      "metadata": {
        "id": "4IGQvJN8RWK6"
      },
      "id": "4IGQvJN8RWK6",
      "execution_count": 2,
      "outputs": []
    },
    {
      "cell_type": "code",
      "source": [
        "import kagglehub\n",
        "\n",
        "# Download latest version\n",
        "path = kagglehub.dataset_download(\"alessiocorrado99/animals10\")\n",
        "\n",
        "print(\"Path to dataset files:\", path)\n",
        "DATASET_URI= path + \"/raw-img\"\n",
        "print(\"Path to dataset files:\", DATASET_URI)"
      ],
      "metadata": {
        "id": "qU8A6jeTbAuR",
        "outputId": "d916f369-7967-43fe-92bc-86bd93b9f621",
        "colab": {
          "base_uri": "https://localhost:8080/"
        }
      },
      "id": "qU8A6jeTbAuR",
      "execution_count": 5,
      "outputs": [
        {
          "output_type": "stream",
          "name": "stdout",
          "text": [
            "Resuming download from 416284672 bytes (197802630 bytes left)...\n",
            "Resuming download from https://www.kaggle.com/api/v1/datasets/download/alessiocorrado99/animals10?dataset_version_number=2 (416284672/614087302) bytes left.\n"
          ]
        },
        {
          "output_type": "stream",
          "name": "stderr",
          "text": [
            "100%|██████████| 586M/586M [00:09<00:00, 21.2MB/s]"
          ]
        },
        {
          "output_type": "stream",
          "name": "stdout",
          "text": [
            "Extracting files...\n"
          ]
        },
        {
          "output_type": "stream",
          "name": "stderr",
          "text": [
            "\n"
          ]
        },
        {
          "output_type": "stream",
          "name": "stdout",
          "text": [
            "Path to dataset files: /root/.cache/kagglehub/datasets/alessiocorrado99/animals10/versions/2\n",
            "Path to dataset files: /root/.cache/kagglehub/datasets/alessiocorrado99/animals10/versions/2/raw-img\n"
          ]
        }
      ]
    },
    {
      "cell_type": "markdown",
      "source": [
        "## Data preprocessing"
      ],
      "metadata": {
        "id": "cXBBG65rb2U7"
      },
      "id": "cXBBG65rb2U7"
    },
    {
      "cell_type": "code",
      "source": [
        "import keras\n",
        "import matplotlib.pyplot as plt\n",
        "import random\n",
        "\n",
        "random.seed(10)\n",
        "batch_size = 32 # Batch size increase to 64\n",
        "img_height = 180\n",
        "img_width = 180\n",
        "seed = random.randint(1, 200)\n",
        "\n",
        "train_ds = keras.utils.image_dataset_from_directory(\n",
        "  directory=DATASET_URI,\n",
        "  validation_split=0.1,\n",
        "  subset=\"training\",\n",
        "  seed=seed,\n",
        "  image_size=(img_height, img_width),\n",
        "  batch_size=batch_size,\n",
        "  shuffle=True\n",
        ")\n",
        "\n",
        "test_ds = keras.utils.image_dataset_from_directory(\n",
        "  directory=DATASET_URI,\n",
        "  validation_split=0.1,\n",
        "  subset=\"validation\",\n",
        "  seed=seed,\n",
        "  image_size=(img_height, img_width),\n",
        "  batch_size=batch_size,\n",
        "  shuffle=True\n",
        ")\n",
        "\n",
        "# We print the class names for double check.\n",
        "\n",
        "print(f\"Training classes => {train_ds.class_names}\")\n",
        "print(f\"Testing classes => {test_ds.class_names}\")\n"
      ],
      "metadata": {
        "id": "xx5Tribxb8gS",
        "outputId": "09a037a7-9af6-47e2-80c1-c35cf2c92e02",
        "colab": {
          "base_uri": "https://localhost:8080/"
        }
      },
      "id": "xx5Tribxb8gS",
      "execution_count": 6,
      "outputs": [
        {
          "output_type": "stream",
          "name": "stdout",
          "text": [
            "Found 26179 files belonging to 10 classes.\n",
            "Using 23562 files for training.\n",
            "Found 26179 files belonging to 10 classes.\n",
            "Using 2617 files for validation.\n",
            "Training classes => ['cane', 'cavallo', 'elefante', 'farfalla', 'gallina', 'gatto', 'mucca', 'pecora', 'ragno', 'scoiattolo']\n",
            "Testing classes => ['cane', 'cavallo', 'elefante', 'farfalla', 'gallina', 'gatto', 'mucca', 'pecora', 'ragno', 'scoiattolo']\n"
          ]
        }
      ]
    },
    {
      "cell_type": "code",
      "source": [
        "class_names = np.array(train_ds.class_names)"
      ],
      "metadata": {
        "id": "YovR0Gc6kUuz"
      },
      "id": "YovR0Gc6kUuz",
      "execution_count": 10,
      "outputs": []
    },
    {
      "cell_type": "code",
      "source": [
        "\n",
        "for image_batch, labels_batch in train_ds:\n",
        "  print(image_batch.shape)\n",
        "  print(labels_batch.shape)\n",
        "  break\n",
        ""
      ],
      "metadata": {
        "id": "Dkh6JAxHj7zK",
        "outputId": "83e8720c-0bd9-4a2f-89fd-54b724063aeb",
        "colab": {
          "base_uri": "https://localhost:8080/"
        }
      },
      "id": "Dkh6JAxHj7zK",
      "execution_count": 7,
      "outputs": [
        {
          "output_type": "stream",
          "name": "stdout",
          "text": [
            "(32, 180, 180, 3)\n",
            "(32,)\n"
          ]
        }
      ]
    },
    {
      "cell_type": "markdown",
      "source": [
        "## Load pre trained VGG16 model"
      ],
      "metadata": {
        "id": "ZDnpHdkfclAS"
      },
      "id": "ZDnpHdkfclAS"
    },
    {
      "cell_type": "code",
      "source": [
        "base_model = VGG16(weights='imagenet', include_top=False, input_shape=(180, 180, 3))\n",
        "base_model.trainable = False  # Freeze the base model layers"
      ],
      "metadata": {
        "id": "WwyOJsP7cnfz"
      },
      "id": "WwyOJsP7cnfz",
      "execution_count": 8,
      "outputs": []
    },
    {
      "cell_type": "markdown",
      "source": [
        "Add custom classification layers"
      ],
      "metadata": {
        "id": "u8hmUO7zcqNg"
      },
      "id": "u8hmUO7zcqNg"
    },
    {
      "cell_type": "code",
      "source": [
        "model = models.Sequential([\n",
        "    base_model,\n",
        "    layers.GlobalAveragePooling2D(),\n",
        "    layers.Dropout(0.5),\n",
        "    layers.Dense(len(class_names), activation='softmax')\n",
        "])\n"
      ],
      "metadata": {
        "id": "xEsjQCMRctZq"
      },
      "id": "xEsjQCMRctZq",
      "execution_count": 11,
      "outputs": []
    },
    {
      "cell_type": "markdown",
      "source": [
        "Compile the model"
      ],
      "metadata": {
        "id": "Zw85sculcxSQ"
      },
      "id": "Zw85sculcxSQ"
    },
    {
      "cell_type": "code",
      "source": [
        "model.compile(\n",
        "    optimizer=Adam(learning_rate=0.0001),\n",
        "    loss='sparse_categorical_crossentropy',\n",
        "    metrics=['accuracy']\n",
        ")"
      ],
      "metadata": {
        "id": "N5OyS-Q8czv5"
      },
      "id": "N5OyS-Q8czv5",
      "execution_count": 12,
      "outputs": []
    },
    {
      "cell_type": "markdown",
      "source": [
        "Train the model"
      ],
      "metadata": {
        "id": "NHuScX_5c1oR"
      },
      "id": "NHuScX_5c1oR"
    },
    {
      "cell_type": "code",
      "source": [
        "es = EarlyStopping(monitor='val_accuracy', mode='max', patience=3,  restore_best_weights=True)\n",
        "history = model.fit(\n",
        "    train_ds,\n",
        "    validation_data=test_ds,\n",
        "    epochs=10,\n",
        "    batch_size=batch_size,\n",
        "    callbacks=[es]\n",
        "\n",
        ")"
      ],
      "metadata": {
        "id": "TsxZzujvc3lS",
        "outputId": "c0723523-594e-4ef6-ba6c-8834a7330bdd",
        "colab": {
          "base_uri": "https://localhost:8080/",
          "height": 215
        }
      },
      "id": "TsxZzujvc3lS",
      "execution_count": 14,
      "outputs": [
        {
          "output_type": "error",
          "ename": "NameError",
          "evalue": "name 'EarlyStopping' is not defined",
          "traceback": [
            "\u001b[0;31m---------------------------------------------------------------------------\u001b[0m",
            "\u001b[0;31mNameError\u001b[0m                                 Traceback (most recent call last)",
            "\u001b[0;32m<ipython-input-14-01f74b3e87fe>\u001b[0m in \u001b[0;36m<cell line: 0>\u001b[0;34m()\u001b[0m\n\u001b[0;32m----> 1\u001b[0;31m \u001b[0mes\u001b[0m \u001b[0;34m=\u001b[0m \u001b[0mEarlyStopping\u001b[0m\u001b[0;34m(\u001b[0m\u001b[0mmonitor\u001b[0m\u001b[0;34m=\u001b[0m\u001b[0;34m'val_accuracy'\u001b[0m\u001b[0;34m,\u001b[0m \u001b[0mmode\u001b[0m\u001b[0;34m=\u001b[0m\u001b[0;34m'max'\u001b[0m\u001b[0;34m,\u001b[0m \u001b[0mpatience\u001b[0m\u001b[0;34m=\u001b[0m\u001b[0;36m3\u001b[0m\u001b[0;34m,\u001b[0m  \u001b[0mrestore_best_weights\u001b[0m\u001b[0;34m=\u001b[0m\u001b[0;32mTrue\u001b[0m\u001b[0;34m)\u001b[0m\u001b[0;34m\u001b[0m\u001b[0;34m\u001b[0m\u001b[0m\n\u001b[0m\u001b[1;32m      2\u001b[0m history = model.fit(\n\u001b[1;32m      3\u001b[0m     \u001b[0mtrain_ds\u001b[0m\u001b[0;34m,\u001b[0m\u001b[0;34m\u001b[0m\u001b[0;34m\u001b[0m\u001b[0m\n\u001b[1;32m      4\u001b[0m     \u001b[0mvalidation_data\u001b[0m\u001b[0;34m=\u001b[0m\u001b[0mtest_ds\u001b[0m\u001b[0;34m,\u001b[0m\u001b[0;34m\u001b[0m\u001b[0;34m\u001b[0m\u001b[0m\n\u001b[1;32m      5\u001b[0m     \u001b[0mepochs\u001b[0m\u001b[0;34m=\u001b[0m\u001b[0;36m10\u001b[0m\u001b[0;34m,\u001b[0m\u001b[0;34m\u001b[0m\u001b[0;34m\u001b[0m\u001b[0m\n",
            "\u001b[0;31mNameError\u001b[0m: name 'EarlyStopping' is not defined"
          ]
        }
      ]
    },
    {
      "cell_type": "code",
      "source": [
        "print(history.history.keys())"
      ],
      "metadata": {
        "id": "K0wJ0PXWtmLz",
        "outputId": "f45b0bd9-3099-4c21-9899-bfa468c0e5d6",
        "colab": {
          "base_uri": "https://localhost:8080/"
        }
      },
      "id": "K0wJ0PXWtmLz",
      "execution_count": 85,
      "outputs": [
        {
          "output_type": "stream",
          "name": "stdout",
          "text": [
            "dict_keys(['accuracy', 'loss', 'val_accuracy', 'val_loss'])\n"
          ]
        }
      ]
    },
    {
      "cell_type": "code",
      "source": [
        "plt.subplot(211)\n",
        "plt.title('Sparse Categorical Cross Entropy Loss')\n",
        "plt.plot(history.history['loss'], color='blue', label='train')\n",
        "plt.plot(history.history['val_loss'], color='red', label='val')\n",
        "\n",
        "# plot accuracy\n",
        "plt.subplot(212)\n",
        "plt.title('Classification Accuracy')\n",
        "plt.plot(history.history['accuracy'], color='green', label='train')\n",
        "plt.plot(history.history['val_accuracy'], color='red', label='val')\n",
        "plt.show()"
      ],
      "metadata": {
        "id": "PaOIR0KmttqG",
        "outputId": "354ff7d3-d431-4417-c38a-c8366137d3b4",
        "colab": {
          "base_uri": "https://localhost:8080/",
          "height": 452
        }
      },
      "id": "PaOIR0KmttqG",
      "execution_count": 87,
      "outputs": [
        {
          "output_type": "display_data",
          "data": {
            "text/plain": [
              "<Figure size 640x480 with 2 Axes>"
            ],
            "image/png": "[encoded data removed]"
          },
          "metadata": {}
        }
      ]
    },
    {
      "cell_type": "markdown",
      "source": [
        "Evaluate"
      ],
      "metadata": {
        "id": "q5WIp0zdtK78"
      },
      "id": "q5WIp0zdtK78"
    },
    {
      "cell_type": "code",
      "source": [
        "test_loss, test_acc = model.evaluate(test_ds)\n",
        "print(\"Test Accuracy:\", test_acc)\n"
      ],
      "metadata": {
        "id": "nkJE51CwtJeN",
        "outputId": "7035fdeb-1d16-496f-a943-7612a8c96fe3",
        "colab": {
          "base_uri": "https://localhost:8080/"
        }
      },
      "id": "nkJE51CwtJeN",
      "execution_count": 82,
      "outputs": [
        {
          "output_type": "stream",
          "name": "stdout",
          "text": [
            "\u001b[1m41/41\u001b[0m \u001b[32m━━━━━━━━━━━━━━━━━━━━\u001b[0m\u001b[37m\u001b[0m \u001b[1m4s\u001b[0m 96ms/step - accuracy: 0.8690 - loss: 0.7502\n",
            "Test Accuracy: 0.8681696653366089\n"
          ]
        }
      ]
    },
    {
      "cell_type": "markdown",
      "source": [
        "## Fine tunning"
      ],
      "metadata": {
        "id": "U0i5GeaStUqs"
      },
      "id": "U0i5GeaStUqs"
    },
    {
      "cell_type": "markdown",
      "source": [
        "Unfreeze some layers from model base"
      ],
      "metadata": {
        "id": "2yRRMSYXtZt4"
      },
      "id": "2yRRMSYXtZt4"
    },
    {
      "cell_type": "code",
      "source": [
        "base_model.trainable = True"
      ],
      "metadata": {
        "id": "cG3jahWAteYM"
      },
      "id": "cG3jahWAteYM",
      "execution_count": null,
      "outputs": []
    },
    {
      "cell_type": "markdown",
      "source": [
        "freeze everything but the last 4"
      ],
      "metadata": {
        "id": "RZJleh5V1RaZ"
      },
      "id": "RZJleh5V1RaZ"
    },
    {
      "cell_type": "code",
      "source": [
        "for layer in base_model.layers[:-4]:\n",
        "    layer.trainable = False"
      ],
      "metadata": {
        "id": "rLUbZPS9uJgE"
      },
      "id": "rLUbZPS9uJgE",
      "execution_count": 88,
      "outputs": []
    },
    {
      "cell_type": "code",
      "source": [
        "model.compile(\n",
        "    optimizer=Adam(learning_rate=1e-5),  # més petit!\n",
        "    loss='sparse_categorical_crossentropy',\n",
        "    metrics=['accuracy']\n",
        ")"
      ],
      "metadata": {
        "id": "mdZaMIEduM8V"
      },
      "id": "mdZaMIEduM8V",
      "execution_count": 89,
      "outputs": []
    },
    {
      "cell_type": "code",
      "source": [
        "history_fine = model.fit(\n",
        "    train_ds,\n",
        "    validation_data=test_ds,\n",
        "    epochs=10,\n",
        "    callbacks=[es]\n",
        ")"
      ],
      "metadata": {
        "id": "siXtSJ9nuOmu",
        "outputId": "fd1aeda4-528d-4530-b364-22ed0f45c68e",
        "colab": {
          "base_uri": "https://localhost:8080/"
        }
      },
      "id": "siXtSJ9nuOmu",
      "execution_count": 90,
      "outputs": [
        {
          "output_type": "stream",
          "name": "stdout",
          "text": [
            "Epoch 1/10\n",
            "\u001b[1m369/369\u001b[0m \u001b[32m━━━━━━━━━━━━━━━━━━━━\u001b[0m\u001b[37m\u001b[0m \u001b[1m45s\u001b[0m 116ms/step - accuracy: 0.7722 - loss: 1.9211 - val_accuracy: 0.8728 - val_loss: 0.7710\n",
            "Epoch 2/10\n",
            "\u001b[1m369/369\u001b[0m \u001b[32m━━━━━━━━━━━━━━━━━━━━\u001b[0m\u001b[37m\u001b[0m \u001b[1m39s\u001b[0m 107ms/step - accuracy: 0.7774 - loss: 1.8041 - val_accuracy: 0.8754 - val_loss: 0.7609\n",
            "Epoch 3/10\n",
            "\u001b[1m369/369\u001b[0m \u001b[32m━━━━━━━━━━━━━━━━━━━━\u001b[0m\u001b[37m\u001b[0m \u001b[1m41s\u001b[0m 110ms/step - accuracy: 0.7754 - loss: 1.8813 - val_accuracy: 0.8731 - val_loss: 0.7531\n",
            "Epoch 4/10\n",
            "\u001b[1m369/369\u001b[0m \u001b[32m━━━━━━━━━━━━━━━━━━━━\u001b[0m\u001b[37m\u001b[0m \u001b[1m40s\u001b[0m 109ms/step - accuracy: 0.7766 - loss: 1.8519 - val_accuracy: 0.8747 - val_loss: 0.7454\n",
            "Epoch 5/10\n",
            "\u001b[1m369/369\u001b[0m \u001b[32m━━━━━━━━━━━━━━━━━━━━\u001b[0m\u001b[37m\u001b[0m \u001b[1m40s\u001b[0m 109ms/step - accuracy: 0.7772 - loss: 1.7922 - val_accuracy: 0.8754 - val_loss: 0.7404\n",
            "Epoch 6/10\n",
            "\u001b[1m369/369\u001b[0m \u001b[32m━━━━━━━━━━━━━━━━━━━━\u001b[0m\u001b[37m\u001b[0m \u001b[1m41s\u001b[0m 110ms/step - accuracy: 0.7793 - loss: 1.7884 - val_accuracy: 0.8762 - val_loss: 0.7356\n",
            "Epoch 7/10\n",
            "\u001b[1m369/369\u001b[0m \u001b[32m━━━━━━━━━━━━━━━━━━━━\u001b[0m\u001b[37m\u001b[0m \u001b[1m40s\u001b[0m 109ms/step - accuracy: 0.7848 - loss: 1.7586 - val_accuracy: 0.8758 - val_loss: 0.7305\n",
            "Epoch 8/10\n",
            "\u001b[1m369/369\u001b[0m \u001b[32m━━━━━━━━━━━━━━━━━━━━\u001b[0m\u001b[37m\u001b[0m \u001b[1m40s\u001b[0m 109ms/step - accuracy: 0.7777 - loss: 1.7855 - val_accuracy: 0.8754 - val_loss: 0.7267\n",
            "Epoch 9/10\n",
            "\u001b[1m369/369\u001b[0m \u001b[32m━━━━━━━━━━━━━━━━━━━━\u001b[0m\u001b[37m\u001b[0m \u001b[1m41s\u001b[0m 110ms/step - accuracy: 0.7832 - loss: 1.6869 - val_accuracy: 0.8766 - val_loss: 0.7212\n",
            "Epoch 10/10\n",
            "\u001b[1m369/369\u001b[0m \u001b[32m━━━━━━━━━━━━━━━━━━━━\u001b[0m\u001b[37m\u001b[0m \u001b[1m40s\u001b[0m 109ms/step - accuracy: 0.7826 - loss: 1.7101 - val_accuracy: 0.8766 - val_loss: 0.7144\n"
          ]
        }
      ]
    },
    {
      "cell_type": "markdown",
      "source": [
        "Evaluate"
      ],
      "metadata": {
        "id": "WQQsL57bx1KB"
      },
      "id": "WQQsL57bx1KB"
    },
    {
      "cell_type": "code",
      "source": [
        "test_loss, test_acc = model.evaluate(test_ds)\n",
        "print(f\"Test accuracy: {test_acc:.4f}\")"
      ],
      "metadata": {
        "id": "ljs6GuFcxydO",
        "outputId": "3f147c49-f842-47a9-8171-62872df10cc6",
        "colab": {
          "base_uri": "https://localhost:8080/"
        }
      },
      "id": "ljs6GuFcxydO",
      "execution_count": 91,
      "outputs": [
        {
          "output_type": "stream",
          "name": "stdout",
          "text": [
            "\u001b[1m41/41\u001b[0m \u001b[32m━━━━━━━━━━━━━━━━━━━━\u001b[0m\u001b[37m\u001b[0m \u001b[1m4s\u001b[0m 98ms/step - accuracy: 0.8783 - loss: 0.6841\n",
            "Test accuracy: 0.8766\n"
          ]
        }
      ]
    },
    {
      "cell_type": "code",
      "source": [
        "\n",
        "\n",
        "for images, labels in test_ds.take(1):\n",
        "    predictions = model.predict(images)\n",
        "    predicted_classes = tf.argmax(predictions, axis=1)\n",
        "\n",
        "    for i in range(10):\n",
        "        print(f\"Real: {class_names[labels[i]]}, Predicted: {class_names[predicted_classes[i]]}\")\n"
      ],
      "metadata": {
        "id": "i-HQWS2lx5Ix",
        "outputId": "0b7be3de-72db-4a12-97b8-868b4180d4fe",
        "colab": {
          "base_uri": "https://localhost:8080/"
        }
      },
      "id": "i-HQWS2lx5Ix",
      "execution_count": 93,
      "outputs": [
        {
          "output_type": "stream",
          "name": "stdout",
          "text": [
            "\u001b[1m2/2\u001b[0m \u001b[32m━━━━━━━━━━━━━━━━━━━━\u001b[0m\u001b[37m\u001b[0m \u001b[1m0s\u001b[0m 63ms/step\n",
            "Real: gatto, Predicted: gatto\n",
            "Real: ragno, Predicted: ragno\n",
            "Real: gallina, Predicted: cane\n",
            "Real: gatto, Predicted: gatto\n",
            "Real: gallina, Predicted: gallina\n",
            "Real: cavallo, Predicted: cavallo\n",
            "Real: cavallo, Predicted: cavallo\n",
            "Real: gallina, Predicted: gallina\n",
            "Real: cane, Predicted: cane\n",
            "Real: gatto, Predicted: gatto\n"
          ]
        }
      ]
    },
    {
      "cell_type": "code",
      "source": [
        "\n",
        "\n",
        "from google.colab import drive\n",
        "drive.mount('/content/drive')\n",
        "\n",
        "model.save(\"/content/drive/MyDrive/CNN_Image_classification/m1_Mo_learning_transfer.keras\")"
      ],
      "metadata": {
        "id": "i9aCqh-qyTRo",
        "outputId": "498da19e-3571-46da-fae1-671df012bd99",
        "colab": {
          "base_uri": "https://localhost:8080/",
          "height": 197
        }
      },
      "id": "i9aCqh-qyTRo",
      "execution_count": 1,
      "outputs": [
        {
          "output_type": "stream",
          "name": "stdout",
          "text": [
            "Drive already mounted at /content/drive; to attempt to forcibly remount, call drive.mount(\"/content/drive\", force_remount=True).\n"
          ]
        },
        {
          "output_type": "error",
          "ename": "NameError",
          "evalue": "name 'model' is not defined",
          "traceback": [
            "\u001b[0;31m---------------------------------------------------------------------------\u001b[0m",
            "\u001b[0;31mNameError\u001b[0m                                 Traceback (most recent call last)",
            "\u001b[0;32m<ipython-input-1-072eb2c99985>\u001b[0m in \u001b[0;36m<cell line: 0>\u001b[0;34m()\u001b[0m\n\u001b[1;32m      2\u001b[0m \u001b[0mdrive\u001b[0m\u001b[0;34m.\u001b[0m\u001b[0mmount\u001b[0m\u001b[0;34m(\u001b[0m\u001b[0;34m'/content/drive'\u001b[0m\u001b[0;34m)\u001b[0m\u001b[0;34m\u001b[0m\u001b[0;34m\u001b[0m\u001b[0m\n\u001b[1;32m      3\u001b[0m \u001b[0;34m\u001b[0m\u001b[0m\n\u001b[0;32m----> 4\u001b[0;31m \u001b[0mmodel\u001b[0m\u001b[0;34m.\u001b[0m\u001b[0msave\u001b[0m\u001b[0;34m(\u001b[0m\u001b[0;34m\"/content/drive/MyDrive/CNN_Image_classification/m1_Mo_learning_transfer.keras\"\u001b[0m\u001b[0;34m)\u001b[0m\u001b[0;34m\u001b[0m\u001b[0;34m\u001b[0m\u001b[0m\n\u001b[0m",
            "\u001b[0;31mNameError\u001b[0m: name 'model' is not defined"
          ]
        }
      ]
    },
    {
      "cell_type": "markdown",
      "source": [
        "--------------------------------------------------------------------------"
      ],
      "metadata": {
        "id": "TXdyZ1xvirah"
      },
      "id": "TXdyZ1xvirah"
    }
  ],
  "metadata": {
    "language_info": {
      "name": "python"
    },
    "colab": {
      "provenance": [],
      "machine_shape": "hm",
      "gpuType": "L4"
    },
    "kernelspec": {
      "name": "python3",
      "display_name": "Python 3"
    },
    "accelerator": "GPU"
  },
  "nbformat": 4,
  "nbformat_minor": 5
}