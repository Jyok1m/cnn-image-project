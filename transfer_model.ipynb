{
  "cells": [
    {
      "cell_type": "markdown",
      "id": "c6339a2e",
      "metadata": {
        "id": "c6339a2e"
      },
      "source": [
        "# Transfer Learning"
      ]
    },
    {
      "cell_type": "markdown",
      "id": "82d6b2e9",
      "metadata": {
        "id": "82d6b2e9"
      },
      "source": [
        "## Setup"
      ]
    },
    {
      "cell_type": "markdown",
      "source": [
        "\n",
        "\n",
        "*   We import all the necessary libraries and dependencies.\n",
        "*   We make sure to mount the google drive (as using google collab).\n",
        "\n",
        "\n"
      ],
      "metadata": {
        "id": "ZZkjqyEH5oh7"
      },
      "id": "ZZkjqyEH5oh7"
    },
    {
      "cell_type": "code",
      "source": [
        "# Data processing libraries\n",
        "\n",
        "import numpy as np\n",
        "import pandas as pd\n",
        "import matplotlib.pyplot as plt\n",
        "\n",
        "# Deep learning libraries\n",
        "\n",
        "import keras\n",
        "import tensorflow as tf\n",
        "import tensorflow_hub as hub\n",
        "import PIL.Image as Image\n",
        "\n",
        "# Utils libraries\n",
        "\n",
        "import kagglehub\n",
        "import time\n",
        "import random\n",
        "import datetime\n",
        "\n",
        "# Google drive\n",
        "\n",
        "from google.colab import drive\n",
        "drive.mount('/content/drive')\n",
        "\n"
      ],
      "metadata": {
        "id": "VPXv8-uy5yxd",
        "outputId": "2cd23b19-b16c-4a43-8082-70d3dcb12897",
        "colab": {
          "base_uri": "https://localhost:8080/"
        }
      },
      "id": "VPXv8-uy5yxd",
      "execution_count": 20,
      "outputs": [
        {
          "output_type": "stream",
          "name": "stdout",
          "text": [
            "Drive already mounted at /content/drive; to attempt to forcibly remount, call drive.mount(\"/content/drive\", force_remount=True).\n"
          ]
        }
      ]
    },
    {
      "cell_type": "code",
      "source": [
        "from tensorflow.keras.applications import VGG16\n",
        "from tensorflow.keras import layers, models\n",
        "from tensorflow.keras.optimizers import Adam\n",
        "import tensorflow as tf\n",
        "import numpy as np\n",
        "\n",
        "#drive.mount('/content/drive')"
      ],
      "metadata": {
        "id": "4IGQvJN8RWK6"
      },
      "id": "4IGQvJN8RWK6",
      "execution_count": 15,
      "outputs": []
    },
    {
      "cell_type": "markdown",
      "source": [
        "\n",
        "\n",
        "*   Then, we make sure to download the latest dataset version.\n",
        "*   We are using the animal 10 dataset.\n",
        "\n"
      ],
      "metadata": {
        "id": "0X-8K_R054-p"
      },
      "id": "0X-8K_R054-p"
    },
    {
      "cell_type": "code",
      "source": [
        "# Download latest version\n",
        "path = kagglehub.dataset_download(\"alessiocorrado99/animals10\")\n",
        "\n",
        "print(\"Path to dataset files:\", path)\n",
        "DATASET_URI= path + \"/raw-img\"\n",
        "print(\"Path to dataset files:\", DATASET_URI)"
      ],
      "metadata": {
        "id": "qU8A6jeTbAuR",
        "outputId": "f2c50adb-65b9-4866-b18d-c000b8166e8d",
        "colab": {
          "base_uri": "https://localhost:8080/"
        }
      },
      "id": "qU8A6jeTbAuR",
      "execution_count": 21,
      "outputs": [
        {
          "output_type": "stream",
          "name": "stdout",
          "text": [
            "Path to dataset files: /kaggle/input/animals10\n",
            "Path to dataset files: /kaggle/input/animals10/raw-img\n"
          ]
        }
      ]
    },
    {
      "cell_type": "markdown",
      "source": [
        "## Data preprocessing"
      ],
      "metadata": {
        "id": "cXBBG65rb2U7"
      },
      "id": "cXBBG65rb2U7"
    },
    {
      "cell_type": "markdown",
      "source": [
        "\n",
        "\n",
        "*   We determine standard values for our images.\n",
        "*   For this transfer learning, we use the same values as the ones used for our 5th model.\n",
        "* We construct our training and testing dataset\n",
        "\n",
        "\n"
      ],
      "metadata": {
        "id": "eYFfkTz66HYU"
      },
      "id": "eYFfkTz66HYU"
    },
    {
      "cell_type": "code",
      "source": [
        "\n",
        "random.seed(10)\n",
        "batch_size = 32 # Batch size increase to 64\n",
        "img_height = 180\n",
        "img_width = 180\n",
        "img_size = (img_height, img_width)\n",
        "seed = random.randint(1, 200)\n",
        "\n",
        "train_ds = keras.utils.image_dataset_from_directory(\n",
        "  directory=DATASET_URI,\n",
        "  validation_split=0.1,\n",
        "  subset=\"training\",\n",
        "  seed=seed,\n",
        "  image_size=(img_height, img_width),\n",
        "  batch_size=batch_size,\n",
        "  shuffle=True\n",
        ")\n",
        "\n",
        "test_ds = keras.utils.image_dataset_from_directory(\n",
        "  directory=DATASET_URI,\n",
        "  validation_split=0.1,\n",
        "  subset=\"validation\",\n",
        "  seed=seed,\n",
        "  image_size=(img_height, img_width),\n",
        "  batch_size=batch_size,\n",
        "  shuffle=True\n",
        ")\n",
        "\n",
        "# We print the class names for double check.\n",
        "\n",
        "print(f\"Training classes => {train_ds.class_names}\")\n",
        "print(f\"Testing classes => {test_ds.class_names}\")\n"
      ],
      "metadata": {
        "id": "xx5Tribxb8gS",
        "outputId": "2e9b6f50-f0ce-4ebb-bedb-fa543f995e4d",
        "colab": {
          "base_uri": "https://localhost:8080/"
        }
      },
      "id": "xx5Tribxb8gS",
      "execution_count": 24,
      "outputs": [
        {
          "output_type": "stream",
          "name": "stdout",
          "text": [
            "Found 26179 files belonging to 10 classes.\n",
            "Using 23562 files for training.\n",
            "Found 26179 files belonging to 10 classes.\n",
            "Using 2617 files for validation.\n",
            "Training classes => ['cane', 'cavallo', 'elefante', 'farfalla', 'gallina', 'gatto', 'mucca', 'pecora', 'ragno', 'scoiattolo']\n",
            "Testing classes => ['cane', 'cavallo', 'elefante', 'farfalla', 'gallina', 'gatto', 'mucca', 'pecora', 'ragno', 'scoiattolo']\n"
          ]
        }
      ]
    },
    {
      "cell_type": "markdown",
      "source": [
        "\n",
        "\n",
        "*  We convert the names from italian to English.\n",
        "\n",
        "\n",
        "\n",
        "\n"
      ],
      "metadata": {
        "id": "MUPLE3os6j60"
      },
      "id": "MUPLE3os6j60"
    },
    {
      "cell_type": "code",
      "source": [
        "\n",
        "italian_to_english = {\n",
        "    'cane': 'dog',\n",
        "    'cavallo': 'horse',\n",
        "    'elefante': 'elephant',\n",
        "    'farfalla': 'butterfly',\n",
        "    'gallina': 'chicken',\n",
        "    'gatto': 'cat',\n",
        "    'mucca': 'cow',\n",
        "    'pecora': 'sheep',\n",
        "    'ragno': 'spider',\n",
        "    'scoiattolo': 'squirrel'\n",
        "}\n",
        "\n",
        "class_names = np.array([italian_to_english[name] for name in train_ds.class_names])\n",
        "num_classes = len(class_names)\n",
        "\n",
        "print(\"class_names => \", class_names)\n",
        "print(\"num_classes => \", num_classes)"
      ],
      "metadata": {
        "id": "sbZC5Q4X6nqM",
        "outputId": "3fe64ceb-7c8d-4768-b8d0-5b111114271d",
        "colab": {
          "base_uri": "https://localhost:8080/"
        }
      },
      "id": "sbZC5Q4X6nqM",
      "execution_count": 27,
      "outputs": [
        {
          "output_type": "stream",
          "name": "stdout",
          "text": [
            "class_names =>  ['dog' 'horse' 'elephant' 'butterfly' 'chicken' 'cat' 'cow' 'sheep'\n",
            " 'spider' 'squirrel']\n",
            "num_classes =>  10\n"
          ]
        }
      ]
    },
    {
      "cell_type": "markdown",
      "source": [
        "\n",
        "\n",
        "*   We normalize our images\n",
        "\n",
        "\n"
      ],
      "metadata": {
        "id": "czWxRdcI6yYY"
      },
      "id": "czWxRdcI6yYY"
    },
    {
      "cell_type": "code",
      "source": [
        "normalization_layer = keras.layers.Rescaling(1./255)\n",
        "\n",
        "train_ds = train_ds.map(lambda x, y: (normalization_layer(x), y)) # Where x—images, y—labels.\n",
        "test_ds = test_ds.map(lambda x, y: (normalization_layer(x), y)) # Where x—images, y—labels."
      ],
      "metadata": {
        "id": "xmGu6ljS62_z"
      },
      "id": "xmGu6ljS62_z",
      "execution_count": 29,
      "outputs": []
    },
    {
      "cell_type": "markdown",
      "source": [
        "\n",
        "\n",
        "*   We cache our data to lower the IO costs\n",
        "\n"
      ],
      "metadata": {
        "id": "38A0kKA765lc"
      },
      "id": "38A0kKA765lc"
    },
    {
      "cell_type": "code",
      "source": [
        "AUTOTUNE = tf.data.AUTOTUNE\n",
        "train_ds = train_ds.cache().prefetch(buffer_size=AUTOTUNE)\n",
        "test_ds = test_ds.cache().prefetch(buffer_size=AUTOTUNE)"
      ],
      "metadata": {
        "id": "zM7_YgpP69mm"
      },
      "id": "zM7_YgpP69mm",
      "execution_count": 30,
      "outputs": []
    },
    {
      "cell_type": "markdown",
      "source": [
        "\n",
        "\n",
        "*   We double check the shape of our data\n",
        "\n",
        "\n"
      ],
      "metadata": {
        "id": "xFtxVPPI7BdT"
      },
      "id": "xFtxVPPI7BdT"
    },
    {
      "cell_type": "code",
      "source": [
        "\n",
        "for image_batch, labels_batch in train_ds:\n",
        "  print(image_batch.shape)\n",
        "  print(labels_batch.shape)\n",
        "  break\n",
        ""
      ],
      "metadata": {
        "colab": {
          "base_uri": "https://localhost:8080/"
        },
        "id": "Dkh6JAxHj7zK",
        "outputId": "0f0c2a65-7abd-4580-d54c-43a45c265ab6"
      },
      "id": "Dkh6JAxHj7zK",
      "execution_count": 31,
      "outputs": [
        {
          "output_type": "stream",
          "name": "stdout",
          "text": [
            "(32, 180, 180, 3)\n",
            "(32,)\n"
          ]
        }
      ]
    },
    {
      "cell_type": "markdown",
      "source": [
        "## Load pre trained VGG16 model"
      ],
      "metadata": {
        "id": "ZDnpHdkfclAS"
      },
      "id": "ZDnpHdkfclAS"
    },
    {
      "cell_type": "code",
      "source": [
        "base_model = VGG16(weights='imagenet', include_top=False, input_shape=(180, 180, 3))\n",
        "base_model.trainable = False  # Freeze the base model layers"
      ],
      "metadata": {
        "id": "WwyOJsP7cnfz"
      },
      "id": "WwyOJsP7cnfz",
      "execution_count": 32,
      "outputs": []
    },
    {
      "cell_type": "markdown",
      "source": [
        "* Add custom classification layers"
      ],
      "metadata": {
        "id": "u8hmUO7zcqNg"
      },
      "id": "u8hmUO7zcqNg"
    },
    {
      "cell_type": "code",
      "source": [
        "model = models.Sequential([\n",
        "    base_model,\n",
        "    layers.GlobalAveragePooling2D(),\n",
        "    layers.Dropout(0.5),\n",
        "    layers.Dense(len(class_names), activation='softmax')\n",
        "])\n"
      ],
      "metadata": {
        "id": "xEsjQCMRctZq"
      },
      "id": "xEsjQCMRctZq",
      "execution_count": 33,
      "outputs": []
    },
    {
      "cell_type": "markdown",
      "source": [
        "\n",
        "*   Compile the model\n"
      ],
      "metadata": {
        "id": "Zw85sculcxSQ"
      },
      "id": "Zw85sculcxSQ"
    },
    {
      "cell_type": "code",
      "source": [
        "model.compile(\n",
        "    optimizer=Adam(learning_rate=0.0001),\n",
        "    loss='sparse_categorical_crossentropy',\n",
        "    metrics=['accuracy']\n",
        ")"
      ],
      "metadata": {
        "id": "N5OyS-Q8czv5"
      },
      "id": "N5OyS-Q8czv5",
      "execution_count": 35,
      "outputs": []
    },
    {
      "cell_type": "markdown",
      "source": [
        "* Train the modelo"
      ],
      "metadata": {
        "id": "NHuScX_5c1oR"
      },
      "id": "NHuScX_5c1oR"
    },
    {
      "cell_type": "code",
      "source": [
        "callbacks = [\n",
        "    keras.callbacks.ModelCheckpoint(\"/content/drive/MyDrive/CNN_Image_classification/feature_learning_Mo_at_{epoch}.keras\"), keras.callbacks.EarlyStopping(monitor='val_loss', patience=3, restore_best_weights=True),\n",
        "    keras.callbacks.EarlyStopping(monitor='val_loss', patience=3, restore_best_weights=True)\n",
        "]\n",
        "history = model.fit(\n",
        "    train_ds,\n",
        "    validation_data=test_ds,\n",
        "    epochs=25,\n",
        "    batch_size=batch_size,\n",
        "    callbacks=callbacks\n",
        "\n",
        ")"
      ],
      "metadata": {
        "colab": {
          "base_uri": "https://localhost:8080/"
        },
        "id": "TsxZzujvc3lS",
        "outputId": "0ee63c1a-26bc-40a5-c6fa-248e3f4c42b9"
      },
      "id": "TsxZzujvc3lS",
      "execution_count": 37,
      "outputs": [
        {
          "output_type": "stream",
          "name": "stdout",
          "text": [
            "Epoch 1/25\n",
            "\u001b[1m737/737\u001b[0m \u001b[32m━━━━━━━━━━━━━━━━━━━━\u001b[0m\u001b[37m\u001b[0m \u001b[1m43s\u001b[0m 59ms/step - accuracy: 0.5208 - loss: 1.5060 - val_accuracy: 0.6003 - val_loss: 1.3655\n",
            "Epoch 2/25\n",
            "\u001b[1m737/737\u001b[0m \u001b[32m━━━━━━━━━━━━━━━━━━━━\u001b[0m\u001b[37m\u001b[0m \u001b[1m43s\u001b[0m 58ms/step - accuracy: 0.5555 - loss: 1.4254 - val_accuracy: 0.6232 - val_loss: 1.2905\n",
            "Epoch 3/25\n",
            "\u001b[1m737/737\u001b[0m \u001b[32m━━━━━━━━━━━━━━━━━━━━\u001b[0m\u001b[37m\u001b[0m \u001b[1m43s\u001b[0m 58ms/step - accuracy: 0.5687 - loss: 1.3555 - val_accuracy: 0.6473 - val_loss: 1.2300\n",
            "Epoch 4/25\n",
            "\u001b[1m737/737\u001b[0m \u001b[32m━━━━━━━━━━━━━━━━━━━━\u001b[0m\u001b[37m\u001b[0m \u001b[1m43s\u001b[0m 59ms/step - accuracy: 0.5931 - loss: 1.2985 - val_accuracy: 0.6630 - val_loss: 1.1802\n",
            "Epoch 5/25\n",
            "\u001b[1m737/737\u001b[0m \u001b[32m━━━━━━━━━━━━━━━━━━━━\u001b[0m\u001b[37m\u001b[0m \u001b[1m43s\u001b[0m 59ms/step - accuracy: 0.6080 - loss: 1.2598 - val_accuracy: 0.6790 - val_loss: 1.1383\n",
            "Epoch 6/25\n",
            "\u001b[1m737/737\u001b[0m \u001b[32m━━━━━━━━━━━━━━━━━━━━\u001b[0m\u001b[37m\u001b[0m \u001b[1m43s\u001b[0m 59ms/step - accuracy: 0.6169 - loss: 1.2191 - val_accuracy: 0.6878 - val_loss: 1.1030\n",
            "Epoch 7/25\n",
            "\u001b[1m737/737\u001b[0m \u001b[32m━━━━━━━━━━━━━━━━━━━━\u001b[0m\u001b[37m\u001b[0m \u001b[1m43s\u001b[0m 59ms/step - accuracy: 0.6299 - loss: 1.1905 - val_accuracy: 0.6993 - val_loss: 1.0728\n",
            "Epoch 8/25\n",
            "\u001b[1m737/737\u001b[0m \u001b[32m━━━━━━━━━━━━━━━━━━━━\u001b[0m\u001b[37m\u001b[0m \u001b[1m43s\u001b[0m 59ms/step - accuracy: 0.6335 - loss: 1.1644 - val_accuracy: 0.7138 - val_loss: 1.0452\n",
            "Epoch 9/25\n",
            "\u001b[1m737/737\u001b[0m \u001b[32m━━━━━━━━━━━━━━━━━━━━\u001b[0m\u001b[37m\u001b[0m \u001b[1m43s\u001b[0m 59ms/step - accuracy: 0.6409 - loss: 1.1474 - val_accuracy: 0.7172 - val_loss: 1.0233\n",
            "Epoch 10/25\n",
            "\u001b[1m737/737\u001b[0m \u001b[32m━━━━━━━━━━━━━━━━━━━━\u001b[0m\u001b[37m\u001b[0m \u001b[1m43s\u001b[0m 58ms/step - accuracy: 0.6478 - loss: 1.1164 - val_accuracy: 0.7245 - val_loss: 1.0017\n",
            "Epoch 11/25\n",
            "\u001b[1m737/737\u001b[0m \u001b[32m━━━━━━━━━━━━━━━━━━━━\u001b[0m\u001b[37m\u001b[0m \u001b[1m43s\u001b[0m 59ms/step - accuracy: 0.6521 - loss: 1.1032 - val_accuracy: 0.7264 - val_loss: 0.9841\n",
            "Epoch 12/25\n",
            "\u001b[1m737/737\u001b[0m \u001b[32m━━━━━━━━━━━━━━━━━━━━\u001b[0m\u001b[37m\u001b[0m \u001b[1m43s\u001b[0m 59ms/step - accuracy: 0.6545 - loss: 1.0913 - val_accuracy: 0.7314 - val_loss: 0.9673\n",
            "Epoch 13/25\n",
            "\u001b[1m737/737\u001b[0m \u001b[32m━━━━━━━━━━━━━━━━━━━━\u001b[0m\u001b[37m\u001b[0m \u001b[1m43s\u001b[0m 59ms/step - accuracy: 0.6588 - loss: 1.0739 - val_accuracy: 0.7333 - val_loss: 0.9524\n",
            "Epoch 14/25\n",
            "\u001b[1m737/737\u001b[0m \u001b[32m━━━━━━━━━━━━━━━━━━━━\u001b[0m\u001b[37m\u001b[0m \u001b[1m43s\u001b[0m 58ms/step - accuracy: 0.6629 - loss: 1.0677 - val_accuracy: 0.7356 - val_loss: 0.9388\n",
            "Epoch 15/25\n",
            "\u001b[1m737/737\u001b[0m \u001b[32m━━━━━━━━━━━━━━━━━━━━\u001b[0m\u001b[37m\u001b[0m \u001b[1m43s\u001b[0m 59ms/step - accuracy: 0.6633 - loss: 1.0508 - val_accuracy: 0.7371 - val_loss: 0.9265\n",
            "Epoch 16/25\n",
            "\u001b[1m737/737\u001b[0m \u001b[32m━━━━━━━━━━━━━━━━━━━━\u001b[0m\u001b[37m\u001b[0m \u001b[1m43s\u001b[0m 59ms/step - accuracy: 0.6704 - loss: 1.0400 - val_accuracy: 0.7394 - val_loss: 0.9157\n",
            "Epoch 17/25\n",
            "\u001b[1m737/737\u001b[0m \u001b[32m━━━━━━━━━━━━━━━━━━━━\u001b[0m\u001b[37m\u001b[0m \u001b[1m43s\u001b[0m 59ms/step - accuracy: 0.6646 - loss: 1.0407 - val_accuracy: 0.7451 - val_loss: 0.9045\n",
            "Epoch 18/25\n",
            "\u001b[1m737/737\u001b[0m \u001b[32m━━━━━━━━━━━━━━━━━━━━\u001b[0m\u001b[37m\u001b[0m \u001b[1m43s\u001b[0m 59ms/step - accuracy: 0.6680 - loss: 1.0262 - val_accuracy: 0.7489 - val_loss: 0.8954\n",
            "Epoch 19/25\n",
            "\u001b[1m737/737\u001b[0m \u001b[32m━━━━━━━━━━━━━━━━━━━━\u001b[0m\u001b[37m\u001b[0m \u001b[1m43s\u001b[0m 59ms/step - accuracy: 0.6777 - loss: 1.0079 - val_accuracy: 0.7501 - val_loss: 0.8862\n",
            "Epoch 20/25\n",
            "\u001b[1m737/737\u001b[0m \u001b[32m━━━━━━━━━━━━━━━━━━━━\u001b[0m\u001b[37m\u001b[0m \u001b[1m43s\u001b[0m 59ms/step - accuracy: 0.6737 - loss: 1.0141 - val_accuracy: 0.7489 - val_loss: 0.8793\n",
            "Epoch 21/25\n",
            "\u001b[1m737/737\u001b[0m \u001b[32m━━━━━━━━━━━━━━━━━━━━\u001b[0m\u001b[37m\u001b[0m \u001b[1m43s\u001b[0m 58ms/step - accuracy: 0.6746 - loss: 1.0057 - val_accuracy: 0.7539 - val_loss: 0.8700\n",
            "Epoch 22/25\n",
            "\u001b[1m737/737\u001b[0m \u001b[32m━━━━━━━━━━━━━━━━━━━━\u001b[0m\u001b[37m\u001b[0m \u001b[1m43s\u001b[0m 59ms/step - accuracy: 0.6750 - loss: 1.0020 - val_accuracy: 0.7543 - val_loss: 0.8629\n",
            "Epoch 23/25\n",
            "\u001b[1m737/737\u001b[0m \u001b[32m━━━━━━━━━━━━━━━━━━━━\u001b[0m\u001b[37m\u001b[0m \u001b[1m43s\u001b[0m 59ms/step - accuracy: 0.6798 - loss: 0.9963 - val_accuracy: 0.7577 - val_loss: 0.8563\n",
            "Epoch 24/25\n",
            "\u001b[1m737/737\u001b[0m \u001b[32m━━━━━━━━━━━━━━━━━━━━\u001b[0m\u001b[37m\u001b[0m \u001b[1m43s\u001b[0m 59ms/step - accuracy: 0.6823 - loss: 0.9853 - val_accuracy: 0.7532 - val_loss: 0.8502\n",
            "Epoch 25/25\n",
            "\u001b[1m737/737\u001b[0m \u001b[32m━━━━━━━━━━━━━━━━━━━━\u001b[0m\u001b[37m\u001b[0m \u001b[1m43s\u001b[0m 59ms/step - accuracy: 0.6787 - loss: 0.9802 - val_accuracy: 0.7623 - val_loss: 0.8434\n"
          ]
        }
      ]
    },
    {
      "cell_type": "code",
      "source": [
        "model.save(\"/content/drive/MyDrive/CNN_Image_classification/feature_learning_Mo_.keras\")"
      ],
      "metadata": {
        "id": "QvMvLXmO8Si_"
      },
      "id": "QvMvLXmO8Si_",
      "execution_count": 38,
      "outputs": []
    },
    {
      "cell_type": "code",
      "source": [
        "print(history.history.keys())"
      ],
      "metadata": {
        "colab": {
          "base_uri": "https://localhost:8080/"
        },
        "id": "K0wJ0PXWtmLz",
        "outputId": "8c3af438-72d1-4be5-b750-cd8831cc600b"
      },
      "id": "K0wJ0PXWtmLz",
      "execution_count": 39,
      "outputs": [
        {
          "output_type": "stream",
          "name": "stdout",
          "text": [
            "dict_keys(['accuracy', 'loss', 'val_accuracy', 'val_loss'])\n"
          ]
        }
      ]
    },
    {
      "cell_type": "code",
      "source": [
        "plt.subplot(211)\n",
        "plt.title('Sparse Categorical Cross Entropy Loss')\n",
        "plt.plot(history.history['loss'], color='blue', label='train')\n",
        "plt.plot(history.history['val_loss'], color='red', label='val')\n",
        "\n",
        "# plot accuracy\n",
        "plt.subplot(212)\n",
        "plt.title('Classification Accuracy')\n",
        "plt.plot(history.history['accuracy'], color='green', label='train')\n",
        "plt.plot(history.history['val_accuracy'], color='red', label='val')\n",
        "plt.show()"
      ],
      "metadata": {
        "colab": {
          "base_uri": "https://localhost:8080/",
          "height": 452
        },
        "id": "PaOIR0KmttqG",
        "outputId": "e57f5934-48b5-451b-a0c8-318505ee3bf0"
      },
      "id": "PaOIR0KmttqG",
      "execution_count": 40,
      "outputs": [
        {
          "output_type": "display_data",
          "data": {
            "text/plain": [
              "<Figure size 640x480 with 2 Axes>"
            ],
            "image/png": "[encoded data removed]"
          },
          "metadata": {}
        }
      ]
    },
    {
      "cell_type": "markdown",
      "source": [
        "Evaluate"
      ],
      "metadata": {
        "id": "q5WIp0zdtK78"
      },
      "id": "q5WIp0zdtK78"
    },
    {
      "cell_type": "code",
      "source": [
        "test_loss, test_acc = model.evaluate(test_ds)\n",
        "print(\"Test Accuracy:\", test_acc)\n"
      ],
      "metadata": {
        "colab": {
          "base_uri": "https://localhost:8080/"
        },
        "id": "nkJE51CwtJeN",
        "outputId": "76cd111b-3f23-4c98-e8ab-ce79dfbffc83"
      },
      "id": "nkJE51CwtJeN",
      "execution_count": 41,
      "outputs": [
        {
          "output_type": "stream",
          "name": "stdout",
          "text": [
            "\u001b[1m82/82\u001b[0m \u001b[32m━━━━━━━━━━━━━━━━━━━━\u001b[0m\u001b[37m\u001b[0m \u001b[1m4s\u001b[0m 52ms/step - accuracy: 0.7512 - loss: 0.8532\n",
            "Test Accuracy: 0.762323260307312\n"
          ]
        }
      ]
    },
    {
      "cell_type": "markdown",
      "source": [
        "## Fine tunning"
      ],
      "metadata": {
        "id": "U0i5GeaStUqs"
      },
      "id": "U0i5GeaStUqs"
    },
    {
      "cell_type": "markdown",
      "source": [
        "Unfreeze some layers from model base"
      ],
      "metadata": {
        "id": "2yRRMSYXtZt4"
      },
      "id": "2yRRMSYXtZt4"
    },
    {
      "cell_type": "code",
      "source": [
        "base_model.trainable = True"
      ],
      "metadata": {
        "id": "cG3jahWAteYM"
      },
      "id": "cG3jahWAteYM",
      "execution_count": 42,
      "outputs": []
    },
    {
      "cell_type": "markdown",
      "source": [
        "freeze everything but the last 4"
      ],
      "metadata": {
        "id": "RZJleh5V1RaZ"
      },
      "id": "RZJleh5V1RaZ"
    },
    {
      "cell_type": "code",
      "source": [
        "for layer in base_model.layers[:-4]:\n",
        "    layer.trainable = False"
      ],
      "metadata": {
        "id": "rLUbZPS9uJgE"
      },
      "id": "rLUbZPS9uJgE",
      "execution_count": 43,
      "outputs": []
    },
    {
      "cell_type": "code",
      "source": [
        "model.compile(\n",
        "    optimizer=Adam(learning_rate=1e-5),  # més petit!\n",
        "    loss='sparse_categorical_crossentropy',\n",
        "    metrics=['accuracy']\n",
        ")\n",
        "\n"
      ],
      "metadata": {
        "id": "mdZaMIEduM8V"
      },
      "id": "mdZaMIEduM8V",
      "execution_count": 44,
      "outputs": []
    },
    {
      "cell_type": "code",
      "source": [
        "\n",
        "callbacks = [\n",
        "    keras.callbacks.ModelCheckpoint(\"/content/drive/MyDrive/CNN_Image_classification/feature_learning_finetune_Mo_at_{epoch}.keras\"), keras.callbacks.EarlyStopping(monitor='val_loss', patience=3, restore_best_weights=True),\n",
        "    keras.callbacks.EarlyStopping(monitor='val_loss', patience=3, restore_best_weights=True)\n",
        "]\n",
        "history = model.fit(\n",
        "    train_ds,\n",
        "    validation_data=test_ds,\n",
        "    epochs=25,\n",
        "    batch_size=batch_size,\n",
        "    callbacks=callbacks\n",
        "\n",
        ")"
      ],
      "metadata": {
        "colab": {
          "base_uri": "https://localhost:8080/"
        },
        "id": "siXtSJ9nuOmu",
        "outputId": "6bd6a5d8-7737-4e6d-82f1-8c873626cc1e"
      },
      "id": "siXtSJ9nuOmu",
      "execution_count": 46,
      "outputs": [
        {
          "output_type": "stream",
          "name": "stdout",
          "text": [
            "Epoch 1/25\n",
            "\u001b[1m737/737\u001b[0m \u001b[32m━━━━━━━━━━━━━━━━━━━━\u001b[0m\u001b[37m\u001b[0m \u001b[1m49s\u001b[0m 66ms/step - accuracy: 0.8837 - loss: 0.3522 - val_accuracy: 0.8949 - val_loss: 0.3348\n",
            "Epoch 2/25\n",
            "\u001b[1m737/737\u001b[0m \u001b[32m━━━━━━━━━━━━━━━━━━━━\u001b[0m\u001b[37m\u001b[0m \u001b[1m48s\u001b[0m 65ms/step - accuracy: 0.9063 - loss: 0.2961 - val_accuracy: 0.8987 - val_loss: 0.3232\n",
            "Epoch 3/25\n",
            "\u001b[1m737/737\u001b[0m \u001b[32m━━━━━━━━━━━━━━━━━━━━\u001b[0m\u001b[37m\u001b[0m \u001b[1m48s\u001b[0m 65ms/step - accuracy: 0.9162 - loss: 0.2561 - val_accuracy: 0.9029 - val_loss: 0.3060\n",
            "Epoch 4/25\n",
            "\u001b[1m737/737\u001b[0m \u001b[32m━━━━━━━━━━━━━━━━━━━━\u001b[0m\u001b[37m\u001b[0m \u001b[1m48s\u001b[0m 66ms/step - accuracy: 0.9274 - loss: 0.2229 - val_accuracy: 0.9075 - val_loss: 0.2971\n",
            "Epoch 5/25\n",
            "\u001b[1m737/737\u001b[0m \u001b[32m━━━━━━━━━━━━━━━━━━━━\u001b[0m\u001b[37m\u001b[0m \u001b[1m48s\u001b[0m 65ms/step - accuracy: 0.9401 - loss: 0.1894 - val_accuracy: 0.9064 - val_loss: 0.2937\n",
            "Epoch 6/25\n",
            "\u001b[1m737/737\u001b[0m \u001b[32m━━━━━━━━━━━━━━━━━━━━\u001b[0m\u001b[37m\u001b[0m \u001b[1m48s\u001b[0m 66ms/step - accuracy: 0.9475 - loss: 0.1652 - val_accuracy: 0.9125 - val_loss: 0.2828\n",
            "Epoch 7/25\n",
            "\u001b[1m737/737\u001b[0m \u001b[32m━━━━━━━━━━━━━━━━━━━━\u001b[0m\u001b[37m\u001b[0m \u001b[1m48s\u001b[0m 65ms/step - accuracy: 0.9579 - loss: 0.1408 - val_accuracy: 0.9133 - val_loss: 0.2847\n",
            "Epoch 8/25\n",
            "\u001b[1m737/737\u001b[0m \u001b[32m━━━━━━━━━━━━━━━━━━━━\u001b[0m\u001b[37m\u001b[0m \u001b[1m48s\u001b[0m 65ms/step - accuracy: 0.9592 - loss: 0.1265 - val_accuracy: 0.9163 - val_loss: 0.2747\n",
            "Epoch 9/25\n",
            "\u001b[1m737/737\u001b[0m \u001b[32m━━━━━━━━━━━━━━━━━━━━\u001b[0m\u001b[37m\u001b[0m \u001b[1m48s\u001b[0m 65ms/step - accuracy: 0.9669 - loss: 0.1094 - val_accuracy: 0.9091 - val_loss: 0.2813\n",
            "Epoch 10/25\n",
            "\u001b[1m737/737\u001b[0m \u001b[32m━━━━━━━━━━━━━━━━━━━━\u001b[0m\u001b[37m\u001b[0m \u001b[1m48s\u001b[0m 65ms/step - accuracy: 0.9743 - loss: 0.0914 - val_accuracy: 0.9113 - val_loss: 0.2821\n",
            "Epoch 11/25\n",
            "\u001b[1m737/737\u001b[0m \u001b[32m━━━━━━━━━━━━━━━━━━━━\u001b[0m\u001b[37m\u001b[0m \u001b[1m49s\u001b[0m 66ms/step - accuracy: 0.9749 - loss: 0.0822 - val_accuracy: 0.9091 - val_loss: 0.2923\n"
          ]
        }
      ]
    },
    {
      "cell_type": "code",
      "source": [
        "model.save(\"/content/drive/MyDrive/CNN_Image_classification/learning_transfer_finetune_Mo_learning_transfer.keras\")"
      ],
      "metadata": {
        "id": "i_Y-iVcPGPHQ"
      },
      "id": "i_Y-iVcPGPHQ",
      "execution_count": 47,
      "outputs": []
    },
    {
      "cell_type": "markdown",
      "source": [
        "Evaluate"
      ],
      "metadata": {
        "id": "WQQsL57bx1KB"
      },
      "id": "WQQsL57bx1KB"
    },
    {
      "cell_type": "code",
      "source": [
        "test_loss, test_acc = model.evaluate(test_ds)\n",
        "print(f\"Test accuracy: {test_acc:.4f}\")"
      ],
      "metadata": {
        "colab": {
          "base_uri": "https://localhost:8080/"
        },
        "id": "ljs6GuFcxydO",
        "outputId": "08046e56-04b7-48a3-f62d-3b7f90c9b2c3"
      },
      "id": "ljs6GuFcxydO",
      "execution_count": 48,
      "outputs": [
        {
          "output_type": "stream",
          "name": "stdout",
          "text": [
            "\u001b[1m82/82\u001b[0m \u001b[32m━━━━━━━━━━━━━━━━━━━━\u001b[0m\u001b[37m\u001b[0m \u001b[1m4s\u001b[0m 51ms/step - accuracy: 0.9218 - loss: 0.2533\n",
            "Test accuracy: 0.9163\n"
          ]
        }
      ]
    },
    {
      "cell_type": "code",
      "source": [
        "plt.subplot(211)\n",
        "plt.title('Sparse Categorical Cross Entropy Loss')\n",
        "plt.plot(history.history['loss'], color='blue', label='train')\n",
        "plt.plot(history.history['val_loss'], color='red', label='val')\n",
        "\n",
        "# plot accuracy\n",
        "plt.subplot(212)\n",
        "plt.title('Classification Accuracy')\n",
        "plt.plot(history.history['accuracy'], color='green', label='train')\n",
        "plt.plot(history.history['val_accuracy'], color='red', label='val')\n",
        "plt.show()"
      ],
      "metadata": {
        "id": "ChsLe_7YGcJu",
        "outputId": "20e73ae2-5b37-4f14-91d6-2cf69cc85713",
        "colab": {
          "base_uri": "https://localhost:8080/",
          "height": 452
        }
      },
      "id": "ChsLe_7YGcJu",
      "execution_count": 49,
      "outputs": [
        {
          "output_type": "display_data",
          "data": {
            "text/plain": [
              "<Figure size 640x480 with 2 Axes>"
            ],
            "image/png": "[encoded data removed]"
          },
          "metadata": {}
        }
      ]
    },
    {
      "cell_type": "code",
      "source": [
        "\n",
        "\n",
        "for images, labels in test_ds.take(1):\n",
        "    predictions = model.predict(images)\n",
        "    predicted_classes = tf.argmax(predictions, axis=1)\n",
        "\n",
        "    for i in range(10):\n",
        "        print(f\"Real: {class_names[labels[i]]}, Predicted: {class_names[predicted_classes[i]]}\")\n"
      ],
      "metadata": {
        "colab": {
          "base_uri": "https://localhost:8080/"
        },
        "id": "i-HQWS2lx5Ix",
        "outputId": "d71fc788-10ed-4e8a-d26c-9c3d135e8555"
      },
      "id": "i-HQWS2lx5Ix",
      "execution_count": 50,
      "outputs": [
        {
          "output_type": "stream",
          "name": "stdout",
          "text": [
            "\u001b[1m1/1\u001b[0m \u001b[32m━━━━━━━━━━━━━━━━━━━━\u001b[0m\u001b[37m\u001b[0m \u001b[1m1s\u001b[0m 681ms/step\n",
            "Real: chicken, Predicted: dog\n",
            "Real: cat, Predicted: cat\n",
            "Real: dog, Predicted: dog\n",
            "Real: chicken, Predicted: chicken\n",
            "Real: sheep, Predicted: sheep\n",
            "Real: dog, Predicted: dog\n",
            "Real: chicken, Predicted: chicken\n",
            "Real: elephant, Predicted: elephant\n",
            "Real: butterfly, Predicted: butterfly\n",
            "Real: dog, Predicted: dog\n"
          ]
        }
      ]
    },
    {
      "cell_type": "markdown",
      "source": [
        "## Confusion matrix"
      ],
      "metadata": {
        "id": "4MITzicuI2u1"
      },
      "id": "4MITzicuI2u1"
    },
    {
      "cell_type": "code",
      "source": [
        "\n",
        "from sklearn.metrics import confusion_matrix\n",
        "import seaborn as sns\n",
        "\n",
        "# Get predictions\n",
        "predicted_batch = model.predict(test_ds)\n",
        "predicted_id = tf.math.argmax(predicted_batch, axis=-1)\n",
        "\n",
        "# Get true labels\n",
        "true_labels = []\n",
        "for images, labels in test_ds:\n",
        "  true_labels.extend(labels.numpy())\n",
        "\n",
        "# Calculate confusion matrix\n",
        "cm = confusion_matrix(true_labels, predicted_id)\n",
        "\n",
        "# Display confusion matrix\n",
        "plt.figure(figsize=(10, 10))\n",
        "sns.heatmap(cm, annot=True, fmt='d', cmap='Blues',\n",
        "            xticklabels=class_names, yticklabels=class_names)\n",
        "plt.xlabel('Predicted Label')\n",
        "plt.ylabel('True Label')\n",
        "plt.title('Confusion Matrix')\n",
        "plt.show()"
      ],
      "metadata": {
        "id": "7jQz9RUFI4ak",
        "outputId": "2ccd3963-72e6-4e0e-deb5-0f7085859588",
        "colab": {
          "base_uri": "https://localhost:8080/",
          "height": 890
        }
      },
      "id": "7jQz9RUFI4ak",
      "execution_count": 52,
      "outputs": [
        {
          "output_type": "stream",
          "name": "stdout",
          "text": [
            "\u001b[1m82/82\u001b[0m \u001b[32m━━━━━━━━━━━━━━━━━━━━\u001b[0m\u001b[37m\u001b[0m \u001b[1m5s\u001b[0m 60ms/step\n"
          ]
        },
        {
          "output_type": "display_data",
          "data": {
            "text/plain": [
              "<Figure size 1000x1000 with 2 Axes>"
            ],
            "image/png": "[encoded data removed]"
          },
          "metadata": {}
        }
      ]
    },
    {
      "cell_type": "markdown",
      "source": [
        "## Precision, Recall and F1-Score"
      ],
      "metadata": {
        "id": "obxHV5_KI-19"
      },
      "id": "obxHV5_KI-19"
    },
    {
      "cell_type": "code",
      "source": [
        "from sklearn.metrics import classification_report\n",
        "\n",
        "# Generate classification report\n",
        "report = classification_report(true_labels, predicted_id, target_names=class_names)\n",
        "print(report)"
      ],
      "metadata": {
        "id": "2ltVtPuzJB3O",
        "outputId": "448f33ee-f710-48a4-81bd-633e5cca7b53",
        "colab": {
          "base_uri": "https://localhost:8080/"
        }
      },
      "id": "2ltVtPuzJB3O",
      "execution_count": 53,
      "outputs": [
        {
          "output_type": "stream",
          "name": "stdout",
          "text": [
            "              precision    recall  f1-score   support\n",
            "\n",
            "         dog       0.90      0.89      0.90       501\n",
            "       horse       0.89      0.92      0.90       266\n",
            "    elephant       0.91      0.89      0.90       149\n",
            "   butterfly       0.96      0.96      0.96       213\n",
            "     chicken       0.97      0.94      0.95       302\n",
            "         cat       0.89      0.90      0.90       142\n",
            "         cow       0.87      0.85      0.86       162\n",
            "       sheep       0.91      0.84      0.88       205\n",
            "      spider       0.96      0.97      0.96       460\n",
            "    squirrel       0.85      0.92      0.88       217\n",
            "\n",
            "    accuracy                           0.92      2617\n",
            "   macro avg       0.91      0.91      0.91      2617\n",
            "weighted avg       0.92      0.92      0.92      2617\n",
            "\n"
          ]
        }
      ]
    }
  ],
  "metadata": {
    "language_info": {
      "name": "python"
    },
    "colab": {
      "provenance": [],
      "machine_shape": "hm",
      "gpuType": "L4"
    },
    "kernelspec": {
      "name": "python3",
      "display_name": "Python 3"
    },
    "accelerator": "GPU"
  },
  "nbformat": 4,
  "nbformat_minor": 5
}